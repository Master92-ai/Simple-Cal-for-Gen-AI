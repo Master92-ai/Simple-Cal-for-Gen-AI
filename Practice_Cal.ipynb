{
  "nbformat": 4,
  "nbformat_minor": 0,
  "metadata": {
    "colab": {
      "provenance": [],
      "authorship_tag": "ABX9TyOSE9fY7PaiR0L/ghSzO8Z2",
      "include_colab_link": true
    },
    "kernelspec": {
      "name": "python3",
      "display_name": "Python 3"
    },
    "language_info": {
      "name": "python"
    }
  },
  "cells": [
    {
      "cell_type": "markdown",
      "metadata": {
        "id": "view-in-github",
        "colab_type": "text"
      },
      "source": [
        "<a href=\"https://colab.research.google.com/github/Master92-ai/Simple-Cal-for-Gen-AI/blob/main/Practice_Cal.ipynb\" target=\"_parent\"><img src=\"https://colab.research.google.com/assets/colab-badge.svg\" alt=\"Open In Colab\"/></a>"
      ]
    },
    {
      "cell_type": "code",
      "source": [
        "from datetime import datetime\n",
        "\n",
        "# Function to calculate age\n",
        "def calculate_age(birth_date):\n",
        "    today = datetime.today()\n",
        "    age = today.year - birth_date.year - ((today.month, today.day) < (birth_date.month, birth_date.day))\n",
        "    return age\n",
        "\n",
        "# Input: Date of birth\n",
        "def get_user_birth_date():\n",
        "    print(\"Enter your date of birth:\")\n",
        "    year = int(input(\"Year (e.g., 1990): \"))\n",
        "    month = int(input(\"Month (1-12): \"))\n",
        "    day = int(input(\"Day (1-31): \"))\n",
        "\n",
        "    try:\n",
        "        birth_date = datetime(year, month, day)\n",
        "        return birth_date\n",
        "    except ValueError:\n",
        "        print(\"Invalid date entered. Please try again.\")\n",
        "        return get_user_birth_date()\n",
        "\n",
        "# Main function to run the age calculator\n",
        "def age_calculator():\n",
        "    birth_date = get_user_birth_date()\n",
        "    age = calculate_age(birth_date)\n",
        "    print(f\"You are {age} years old.\")\n",
        "\n",
        "# Run the age calculator\n",
        "age_calculator()\n"
      ],
      "metadata": {
        "colab": {
          "base_uri": "https://localhost:8080/"
        },
        "id": "LrrjxA2DSh74",
        "outputId": "02daa37e-e14f-4c31-aa29-f48e2ccacd23"
      },
      "execution_count": 5,
      "outputs": [
        {
          "output_type": "stream",
          "name": "stdout",
          "text": [
            "Enter your date of birth:\n",
            "Year (e.g., 1990): 1992\n",
            "Month (1-12): 11\n",
            "Day (1-31): 20\n",
            "You are 31 years old.\n"
          ]
        }
      ]
    }
  ]
}