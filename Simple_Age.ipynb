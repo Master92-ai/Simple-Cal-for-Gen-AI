{
  "nbformat": 4,
  "nbformat_minor": 0,
  "metadata": {
    "colab": {
      "provenance": [],
      "authorship_tag": "ABX9TyMo22olpyAwLIuR23o2/S7B",
      "include_colab_link": true
    },
    "kernelspec": {
      "name": "python3",
      "display_name": "Python 3"
    },
    "language_info": {
      "name": "python"
    }
  },
  "cells": [
    {
      "cell_type": "markdown",
      "metadata": {
        "id": "view-in-github",
        "colab_type": "text"
      },
      "source": [
        "<a href=\"https://colab.research.google.com/github/Master92-ai/Simple-Cal-for-Gen-AI/blob/main/Simple_Age.ipynb\" target=\"_parent\"><img src=\"https://colab.research.google.com/assets/colab-badge.svg\" alt=\"Open In Colab\"/></a>"
      ]
    },
    {
      "cell_type": "code",
      "execution_count": 1,
      "metadata": {
        "colab": {
          "base_uri": "https://localhost:8080/"
        },
        "id": "uq4MTVWBxfI_",
        "outputId": "3ccad66a-9e03-421c-b706-e9762352d80b"
      },
      "outputs": [
        {
          "output_type": "stream",
          "name": "stdout",
          "text": [
            "Enter your birthdate (YYYY-MM-DD): 1992-11-20\n",
            "You are 31 years old.\n"
          ]
        }
      ],
      "source": [
        "# Import the necessary module\n",
        "from datetime import datetime\n",
        "\n",
        "# Function to calculate age\n",
        "def calculate_age(birthdate):\n",
        "    today = datetime.today()\n",
        "    birthdate = datetime.strptime(birthdate, \"%Y-%m-%d\")\n",
        "    age = today.year - birthdate.year - ((today.month, today.day) < (birthdate.month, birthdate.day))\n",
        "    return age\n",
        "\n",
        "# Input birthdate in the format YYYY-MM-DD\n",
        "birthdate_input = input(\"Enter your birthdate (YYYY-MM-DD): \")\n",
        "\n",
        "# Call the function and display the result\n",
        "age = calculate_age(birthdate_input)\n",
        "print(f\"You are {age} years old.\")\n"
      ]
    }
  ]
}